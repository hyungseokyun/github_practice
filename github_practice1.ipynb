{
 "cells": [
  {
   "cell_type": "markdown",
   "id": "1109e85d-fd7b-434a-a328-bc4a593495af",
   "metadata": {},
   "source": [
    "## 깃허브 연습"
   ]
  },
  {
   "cell_type": "code",
   "execution_count": 3,
   "id": "c56ecadf-8212-4269-ae10-5ac709aaa168",
   "metadata": {},
   "outputs": [
    {
     "data": {
      "text/plain": [
       "'C:\\\\Users\\\\dbsgu\\\\HS_data'"
      ]
     },
     "execution_count": 3,
     "metadata": {},
     "output_type": "execute_result"
    }
   ],
   "source": [
    "import os\n",
    "import pandas as pd\n",
    "import numpy as np\n",
    "\n",
    "os.getcwd()"
   ]
  },
  {
   "cell_type": "code",
   "execution_count": 5,
   "id": "8ecbdd71-a7c4-4a52-bcf2-ffc58ac471d4",
   "metadata": {},
   "outputs": [
    {
     "name": "stdout",
     "output_type": "stream",
     "text": [
      "첫번째 작업\n"
     ]
    }
   ],
   "source": [
    "print(\"첫번째 작업\")"
   ]
  },
  {
   "cell_type": "code",
   "execution_count": null,
   "id": "e18b7761-9295-4654-84a6-5f45aa5c2688",
   "metadata": {},
   "outputs": [],
   "source": []
  },
  {
   "cell_type": "code",
   "execution_count": null,
   "id": "c47b1fc8-6824-44eb-96a0-49f8ba5ab493",
   "metadata": {},
   "outputs": [],
   "source": []
  },
  {
   "cell_type": "code",
   "execution_count": null,
   "id": "9e3f1c7f-33c6-44e2-82dd-67a2ea3a0570",
   "metadata": {},
   "outputs": [],
   "source": []
  }
 ],
 "metadata": {
  "kernelspec": {
   "display_name": "Python 3 (ipykernel)",
   "language": "python",
   "name": "python3"
  },
  "language_info": {
   "codemirror_mode": {
    "name": "ipython",
    "version": 3
   },
   "file_extension": ".py",
   "mimetype": "text/x-python",
   "name": "python",
   "nbconvert_exporter": "python",
   "pygments_lexer": "ipython3",
   "version": "3.12.7"
  }
 },
 "nbformat": 4,
 "nbformat_minor": 5
}
