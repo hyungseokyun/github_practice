{
 "cells": [
  {
   "cell_type": "markdown",
   "id": "c47b82ae-b725-45e1-985b-ecd40c54ce0a",
   "metadata": {},
   "source": [
    "## 깃허브 연습2"
   ]
  },
  {
   "cell_type": "code",
   "execution_count": 4,
   "id": "d5cbbcc8-f9aa-4a72-94e3-ef4ea49bfc08",
   "metadata": {},
   "outputs": [
    {
     "data": {
      "text/plain": [
       "'C:\\\\Users\\\\dbsgu\\\\HS_data\\\\github_practice_folder'"
      ]
     },
     "execution_count": 4,
     "metadata": {},
     "output_type": "execute_result"
    }
   ],
   "source": [
    "import os\n",
    "import pandas as pd\n",
    "import numpy as np\n",
    "\n",
    "os.getcwd()"
   ]
  },
  {
   "cell_type": "code",
   "execution_count": 2,
   "id": "02df2857-922b-4abc-963c-cccb9cb336cd",
   "metadata": {},
   "outputs": [
    {
     "name": "stdout",
     "output_type": "stream",
     "text": [
      "두번째 작업\n"
     ]
    }
   ],
   "source": [
    "print(\"두번째 작업\")"
   ]
  },
  {
   "cell_type": "code",
   "execution_count": null,
   "id": "76aaf281-8c4c-4417-b3d9-d35996b7ac0c",
   "metadata": {},
   "outputs": [],
   "source": []
  },
  {
   "cell_type": "code",
   "execution_count": null,
   "id": "4d1005db-ec81-4408-aa78-b77b29ebb130",
   "metadata": {},
   "outputs": [],
   "source": []
  },
  {
   "cell_type": "code",
   "execution_count": null,
   "id": "bccbdde8-5be5-4055-b0a5-59556d90ebf0",
   "metadata": {},
   "outputs": [],
   "source": []
  }
 ],
 "metadata": {
  "kernelspec": {
   "display_name": "Python 3 (ipykernel)",
   "language": "python",
   "name": "python3"
  },
  "language_info": {
   "codemirror_mode": {
    "name": "ipython",
    "version": 3
   },
   "file_extension": ".py",
   "mimetype": "text/x-python",
   "name": "python",
   "nbconvert_exporter": "python",
   "pygments_lexer": "ipython3",
   "version": "3.12.7"
  }
 },
 "nbformat": 4,
 "nbformat_minor": 5
}
